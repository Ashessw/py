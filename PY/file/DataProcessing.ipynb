{
 "cells": [
  {
   "cell_type": "code",
   "execution_count": 11,
   "metadata": {},
   "outputs": [],
   "source": [
    "import ChooseFlie\n",
    "import ModifyModel\n",
    "from collections import defaultdict\n",
    "from datetime import datetime\n",
    "import pandas as pd\n",
    "import re"
   ]
  },
  {
   "cell_type": "code",
   "execution_count": 12,
   "metadata": {},
   "outputs": [],
   "source": [
    "# 1、调窗口，读取资产包案件数据\n",
    "path_file = ChooseFlie.choose_file()\n",
    "\n",
    "# 2、、选择债务种类：信用卡/贷款，读取字段采集表\n",
    "# path_tmp = ChooseFlie.choose_file()\n",
    "\n",
    "# 【待删】测试\n",
    "path_tmp = \"../字段采集.xlsx\"\n",
    "\n",
    "# 【待完善】测试\n",
    "type_credit = \"信用卡\""
   ]
  },
  {
   "cell_type": "code",
   "execution_count": 13,
   "metadata": {},
   "outputs": [],
   "source": [
    "# 1、原始数据文件\n",
    "df_o = pd.read_excel(path_file,dtype=str)\n",
    "# 2、字段收集\n",
    "df_tmp = pd.read_excel(path_tmp,sheet_name='字段采集')\n",
    "# 3、全量模板\n",
    "df_tmp1 = pd.read_excel(path_tmp,sheet_name='全量模板')\n",
    "# 4、枚举\n",
    "df_map = pd.read_excel(path_tmp,sheet_name='枚举')"
   ]
  },
  {
   "cell_type": "code",
   "execution_count": 14,
   "metadata": {},
   "outputs": [],
   "source": [
    "# 字段采集映射读取+处理：\n",
    "# 1、接收该文件业务类型对应的列名采集、及列名模板的映射表\n",
    "df_tmp = df_tmp[df_tmp['业务类型'] == type_credit]\n",
    "df_tmp = df_tmp[['列名采集','列名模板']]\n",
    "\n",
    "my_dict = dict(zip(df_tmp['列名采集'],df_tmp['列名模板']))"
   ]
  },
  {
   "cell_type": "code",
   "execution_count": 15,
   "metadata": {},
   "outputs": [],
   "source": [
    "# 2、提取所需数据的表头，以及输出字段采集中不存在的表头（为采集是否需要作参考）\n",
    "col_p = []\n",
    "col_dfo = []\n",
    "for col in df_o.columns:\n",
    "    if col in my_dict.keys():\n",
    "        col_dfo.append(col)\n",
    "    else:\n",
    "        col_p.append(col)\n",
    "\n",
    "col_p = pd.DataFrame(col_p)\n",
    "col_p.to_excel('../data/p_col.xlsx')"
   ]
  },
  {
   "cell_type": "code",
   "execution_count": 16,
   "metadata": {},
   "outputs": [],
   "source": [
    "# 创建空df:全量，且列名以案件列名模板为准\n",
    "col_new = df_tmp1[[type_credit]].dropna()\n",
    "col_new = col_new[type_credit].to_list()\n",
    "df = pd.DataFrame(columns = col_new)"
   ]
  },
  {
   "cell_type": "code",
   "execution_count": 17,
   "metadata": {},
   "outputs": [],
   "source": [
    "# 提取原始数据文件中所需数据，并修改表头\n",
    "df_o = (df_o[col_dfo]).rename(columns=my_dict)\n",
    "\n",
    "# 清洗1：删除所有值都缺失的列、清除空格\n",
    "df_o = df_o.dropna(axis=1,how=\"all\")\n",
    "df_o.replace('\\s+','',regex=True,inplace=True)"
   ]
  },
  {
   "cell_type": "code",
   "execution_count": 18,
   "metadata": {},
   "outputs": [],
   "source": [
    "# 清洗2：调整格式\n",
    "type_col = ['币种','贷款五级分类','国籍','婚姻状况','性别','学历','学位','原始债务种类','证件类型']\n",
    "num = ['期数','借款期限']\n",
    "money = ['未偿本金','未偿利息','未偿费用','未偿官费','未偿债权总额','贷款利率']\n",
    "money2 = ['原放贷金额','实际放款额','授信金额','初始信用额度']\n",
    "date = ['权利转移日/交易基准日','开户日期','逾期日','放款日期','到期日']\n",
    "tel_mobile = ['住宅电话','借款人手机','单位电话']\n",
    "\n",
    "n = df_o.shape[0]\n",
    "for c in df_o.columns:\n",
    "    if c in df.columns:\n",
    "        if c == '至权利转移日/交易基准日的逾期天数':\n",
    "            df[c] = (pd.to_numeric(df_o[c])).astype('int')\n",
    "        # 1、统一类别映射\n",
    "        elif c in type_col:\n",
    "            df_o[c] = df_o[c].fillna('未知')\n",
    "            map_data = (df_map[df_map['字段名'] == c])[['字典采集','字典映射']]\n",
    "            map_dict = dict(zip(map_data['字典采集'],map_data['字典映射']))\n",
    "            try:\n",
    "                df[c] = df_o[c].map(map_dict)\n",
    "            except:\n",
    "                pass\n",
    "            # for i in range(n):\n",
    "            #     df.loc[i,c] = ModifyModel.card_type(df_o.loc[i,c])\n",
    "        # 2、数字：整型\n",
    "        elif c in num:\n",
    "            for i in range(n):\n",
    "                df.loc[i,c] = ModifyModel.num_periods(df_o.loc[i,c])\n",
    "            df[c] = df[c].astype(int)\n",
    "        # 3、金额\n",
    "        elif c in money:\n",
    "            df[c] = (pd.to_numeric((df_o[c].fillna(0)))).astype('float')\n",
    "        # elif c in money2:\n",
    "        #     df[c] = (pd.to_numeric(df_o[c])).astype('float')\n",
    "        # 4、日期\n",
    "        elif c in date:\n",
    "            for i in range(n):\n",
    "                if '00:00:00' in str(df_o.loc[i,c]):\n",
    "                    df_o.loc[i,c] = (df_o.loc[i,c]).replace('00:00:00','')\n",
    "                df.loc[i,c] = ModifyModel.date_p(df_o.loc[i,c])\n",
    "            try:\n",
    "                df[c] = pd.to_datetime(df[c],format='%Y/%m/%d %H:%M:%S').dt.strftime('%Y/%m/%d')\n",
    "            except:\n",
    "                pass\n",
    "        # elif c in tel_mobile:\n",
    "        #     df_o[c] = df_o[c].str.replace('-','')\n",
    "        #     for i in range(len(df_o[c])):\n",
    "        #         df.loc[i,c] = ModifyModel.tel_type(df_o.loc[i,c])   \n",
    "        # 5、身份证\n",
    "        # elif c in tel_mobile:\n",
    "        #     for i in range(n):\n",
    "        #         df.loc[i,c] = ModifyModel.tel_type(df_o.loc[i,c])\n",
    "    \n",
    "        else:\n",
    "            df[c] = df_o[c]\n",
    "    else:\n",
    "        continue\n"
   ]
  },
  {
   "cell_type": "code",
   "execution_count": 19,
   "metadata": {},
   "outputs": [],
   "source": [
    "df.to_excel('../data/new_file.xlsx',index=False)"
   ]
  }
 ],
 "metadata": {
  "kernelspec": {
   "display_name": "MyVenv",
   "language": "python",
   "name": "python3"
  },
  "language_info": {
   "codemirror_mode": {
    "name": "ipython",
    "version": 3
   },
   "file_extension": ".py",
   "mimetype": "text/x-python",
   "name": "python",
   "nbconvert_exporter": "python",
   "pygments_lexer": "ipython3",
   "version": "3.8.18"
  }
 },
 "nbformat": 4,
 "nbformat_minor": 2
}
