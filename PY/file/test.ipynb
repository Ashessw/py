{
 "cells": [
  {
   "cell_type": "code",
   "execution_count": 18,
   "metadata": {},
   "outputs": [],
   "source": [
    "from collections import defaultdict\n",
    "from datetime import datetime\n",
    "import pandas as pd\n",
    "import re"
   ]
  },
  {
   "cell_type": "code",
   "execution_count": 19,
   "metadata": {},
   "outputs": [],
   "source": [
    "data = pd.read_excel(\"../cetel.xlsx\",dtype=str)\n",
    "df = pd.DataFrame()"
   ]
  },
  {
   "cell_type": "code",
   "execution_count": 21,
   "metadata": {},
   "outputs": [
    {
     "data": {
      "text/plain": [
       "Index(['序号', '单位电话'], dtype='object')"
      ]
     },
     "execution_count": 21,
     "metadata": {},
     "output_type": "execute_result"
    }
   ],
   "source": [
    "data.columns"
   ]
  },
  {
   "cell_type": "code",
   "execution_count": 22,
   "metadata": {},
   "outputs": [],
   "source": [
    "c = '单位电话'"
   ]
  },
  {
   "cell_type": "code",
   "execution_count": null,
   "metadata": {},
   "outputs": [],
   "source": [
    "df_o = data[[c]].dropna()\n",
    "df_o = df_o[df_o[c] != 'nan']\n",
    "df_o['tel1'] = df_o[c].replace('\\s+','',regex=True)\n",
    "df_o['tel1'] = df_o['tel1'].str.replace('-','')\n",
    "df_o"
   ]
  },
  {
   "cell_type": "code",
   "execution_count": 24,
   "metadata": {},
   "outputs": [],
   "source": [
    "df_o.to_excel('../teltel.xlsx')"
   ]
  },
  {
   "cell_type": "code",
   "execution_count": 34,
   "metadata": {},
   "outputs": [
    {
     "name": "stdout",
     "output_type": "stream",
     "text": [
      "True\n"
     ]
    }
   ],
   "source": [
    "pattern_mob = '(?:0|86|\\\\+86)?1[3-9]\\d{9}'\n",
    "pattern_tel = '((010|02\\d)\\d{8})|(0[3-9]\\d{2}\\d{7})'\n",
    "m = '13123456789'\n",
    "b = re.match(pattern_mob,m)\n",
    "if b :\n",
    "    print(True)\n",
    "# pattern_hk = '(?:0|852|\\\\+852)?\\d{8}'"
   ]
  },
  {
   "cell_type": "code",
   "execution_count": null,
   "metadata": {},
   "outputs": [],
   "source": [
    "# public static final Pattern MOBILE = Pattern.compile(\"(?:0|86|\\\\+86)?1[3-9]\\\\d{9}\");\n",
    "# public static final Pattern MOBILE_HK = Pattern.compile(\"(?:0|852|\\\\+852)?\\\\d{8}\");\n",
    "# public static final Pattern MOBILE_TW = Pattern.compile(\"(?:0|886|\\\\+886)?(?:|-)09\\\\d{8}\");\n",
    "# public static final Pattern MOBILE_MO = Pattern.compile(\"(?:0|853|\\\\+853)?(?:|-)6\\\\d{7}\");\n",
    "# public static final Pattern TEL = Pattern.compile(\"(010|02\\\\d|0[3-9]\\\\d{2})-?(\\\\d{6,8})\");\n",
    "# public static final Pattern TEL_400_800 = Pattern.compile(\"0\\\\d{2,3}[\\\\- ]?[1-9]\\\\d{6,7}|[48]00[\\\\- ]?[1-9]\\\\d{2}[\\\\- ]?\\\\d{4}\");"
   ]
  },
  {
   "cell_type": "code",
   "execution_count": null,
   "metadata": {},
   "outputs": [],
   "source": [
    "def tel_type(tel):\n",
    "    tel_qh = ['010','020','021','022','023','024','025','027','028','029']\n",
    "    pattern_mob = '(?:0|86|\\\\+86)?1[3-9]\\d{9}'\n",
    "    if (str(tel)[:1] == '1'):\n",
    "        if len(tel) == 11:\n",
    "            re_tel = re.match(pattern_mob,m)\n",
    "            if re_tel:\n",
    "                return tel\n",
    "            else:\n",
    "                return ''\n",
    "        else:\n",
    "            return ''\n",
    "    elif str(tel)[:3] in tel_qh:\n",
    "        if len(tel) == 11:\n",
    "            pass"
   ]
  },
  {
   "cell_type": "code",
   "execution_count": 222,
   "metadata": {},
   "outputs": [],
   "source": [
    "\n",
    "def phone_tel(tel):\n",
    "    tel = str(str(tel).replace('-','')).replace(' ','')\n",
    "    if str(tel)[:5] == '0000-':\n",
    "        tel = str(tel)[5:]\n",
    "    elif str(tel)[:4] == '0000':\n",
    "        tel = str(tel)[4:]\n",
    "    if len(tel) < 6:\n",
    "        val = ''\n",
    "    else:\n",
    "        if len(tel) < 10:\n",
    "            val = tel\n",
    "        elif len(tel) == 11:\n",
    "            if str(tel)[:1] == '1':\n",
    "                val = tel\n",
    "            elif str(tel)[:3] in tel_quhao:\n",
    "                val = str(tel)[:3] + '-' + str(tel)[3:]  \n",
    "            else:\n",
    "                val = str(tel)[:4] + '-' + str(tel)[4:]  \n",
    "        elif str(tel)[3:4] == '-' or str(tel)[4:5] == '-':\n",
    "            val = tel\n",
    "        elif str(tel)[:3] in tel_quhao:\n",
    "            if str(tel)[3:4] == '1' and len(str(tel)[3:]) == 11:\n",
    "                val = str(tel)[3:]\n",
    "            else:\n",
    "                val = str(tel)[:3] + '-' + str(tel)[3:]    \n",
    "    return val"
   ]
  },
  {
   "cell_type": "code",
   "execution_count": 223,
   "metadata": {},
   "outputs": [
    {
     "ename": "UnboundLocalError",
     "evalue": "local variable 'val' referenced before assignment",
     "output_type": "error",
     "traceback": [
      "\u001b[1;31m---------------------------------------------------------------------------\u001b[0m",
      "\u001b[1;31mUnboundLocalError\u001b[0m                         Traceback (most recent call last)",
      "Cell \u001b[1;32mIn[223], line 2\u001b[0m\n\u001b[0;32m      1\u001b[0m \u001b[38;5;28;01mfor\u001b[39;00m i \u001b[38;5;129;01min\u001b[39;00m \u001b[38;5;28mrange\u001b[39m(\u001b[38;5;28mlen\u001b[39m(dat2[c])):\n\u001b[1;32m----> 2\u001b[0m     df\u001b[38;5;241m.\u001b[39mloc[i,v] \u001b[38;5;241m=\u001b[39m \u001b[43mphone_tel\u001b[49m\u001b[43m(\u001b[49m\u001b[43mdat2\u001b[49m\u001b[38;5;241;43m.\u001b[39;49m\u001b[43mloc\u001b[49m\u001b[43m[\u001b[49m\u001b[43mi\u001b[49m\u001b[43m,\u001b[49m\u001b[43mc\u001b[49m\u001b[43m]\u001b[49m\u001b[43m)\u001b[49m\n",
      "Cell \u001b[1;32mIn[222], line 27\u001b[0m, in \u001b[0;36mphone_tel\u001b[1;34m(tel)\u001b[0m\n\u001b[0;32m     25\u001b[0m         \u001b[38;5;28;01melse\u001b[39;00m:\n\u001b[0;32m     26\u001b[0m             val \u001b[38;5;241m=\u001b[39m \u001b[38;5;28mstr\u001b[39m(tel)[:\u001b[38;5;241m3\u001b[39m] \u001b[38;5;241m+\u001b[39m \u001b[38;5;124m'\u001b[39m\u001b[38;5;124m-\u001b[39m\u001b[38;5;124m'\u001b[39m \u001b[38;5;241m+\u001b[39m \u001b[38;5;28mstr\u001b[39m(tel)[\u001b[38;5;241m3\u001b[39m:]    \n\u001b[1;32m---> 27\u001b[0m \u001b[38;5;28;01mreturn\u001b[39;00m \u001b[43mval\u001b[49m\n",
      "\u001b[1;31mUnboundLocalError\u001b[0m: local variable 'val' referenced before assignment"
     ]
    }
   ],
   "source": [
    "for i in range(len(dat2[c])):\n",
    "    df.loc[i,v] = phone_tel(dat2.loc[i,c])"
   ]
  },
  {
   "cell_type": "code",
   "execution_count": null,
   "metadata": {},
   "outputs": [],
   "source": [
    "df"
   ]
  }
 ],
 "metadata": {
  "kernelspec": {
   "display_name": "MyVenv",
   "language": "python",
   "name": "python3"
  },
  "language_info": {
   "codemirror_mode": {
    "name": "ipython",
    "version": 3
   },
   "file_extension": ".py",
   "mimetype": "text/x-python",
   "name": "python",
   "nbconvert_exporter": "python",
   "pygments_lexer": "ipython3",
   "version": "3.8.18"
  }
 },
 "nbformat": 4,
 "nbformat_minor": 2
}
